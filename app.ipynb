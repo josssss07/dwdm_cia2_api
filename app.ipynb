{
 "cells": [
  {
   "cell_type": "code",
   "execution_count": 1,
   "metadata": {},
   "outputs": [
    {
     "name": "stderr",
     "output_type": "stream",
     "text": [
      "2024-09-08 21:55:33.886668: I tensorflow/core/util/port.cc:153] oneDNN custom operations are on. You may see slightly different numerical results due to floating-point round-off errors from different computation orders. To turn them off, set the environment variable `TF_ENABLE_ONEDNN_OPTS=0`.\n",
      "2024-09-08 21:55:33.898718: E external/local_xla/xla/stream_executor/cuda/cuda_fft.cc:485] Unable to register cuFFT factory: Attempting to register factory for plugin cuFFT when one has already been registered\n",
      "2024-09-08 21:55:33.912401: E external/local_xla/xla/stream_executor/cuda/cuda_dnn.cc:8454] Unable to register cuDNN factory: Attempting to register factory for plugin cuDNN when one has already been registered\n",
      "2024-09-08 21:55:33.916959: E external/local_xla/xla/stream_executor/cuda/cuda_blas.cc:1452] Unable to register cuBLAS factory: Attempting to register factory for plugin cuBLAS when one has already been registered\n",
      "2024-09-08 21:55:33.927799: I tensorflow/core/platform/cpu_feature_guard.cc:210] This TensorFlow binary is optimized to use available CPU instructions in performance-critical operations.\n",
      "To enable the following instructions: AVX2 AVX512F AVX512_VNNI AVX512_BF16 FMA, in other operations, rebuild TensorFlow with the appropriate compiler flags.\n",
      "2024-09-08 21:55:34.735844: W tensorflow/compiler/tf2tensorrt/utils/py_utils.cc:38] TF-TRT Warning: Could not find TensorRT\n"
     ]
    }
   ],
   "source": [
    "import numpy as np\n",
    "import pandas as pd\n",
    "from flask import Flask, render_template, request\n",
    "from sklearn.preprocessing import MinMaxScaler\n",
    "from sklearn.ensemble import RandomForestRegressor\n",
    "from sklearn.svm import SVR\n",
    "from keras.models import Sequential\n",
    "from keras.layers import LSTM, Dense\n",
    "from textblob import TextBlob\n",
    "import yfinance as yf\n",
    "import matplotlib.pyplot as plt\n",
    "import io\n",
    "import base64\n"
   ]
  },
  {
   "cell_type": "code",
   "execution_count": null,
   "metadata": {},
   "outputs": [],
   "source": [
    "\n",
    "app = Flask(__name__)\n"
   ]
  },
  {
   "cell_type": "code",
   "execution_count": null,
   "metadata": {},
   "outputs": [],
   "source": [
    "def get_stock_data(symbol, start_date, end_date):\n",
    "    stock = yf.Ticker(symbol)\n",
    "    df = stock.history(start=start_date, end=end_date)\n",
    "    return df[['Close']]"
   ]
  },
  {
   "cell_type": "code",
   "execution_count": null,
   "metadata": {},
   "outputs": [],
   "source": [
    "def prepare_data(data, look_back=60):\n",
    "    scaler = MinMaxScaler(feature_range=(0, 1))\n",
    "    scaled_data = scaler.fit_transform(data)\n",
    "    X, y = [], []\n",
    "    for i in range(look_back, len(scaled_data)):\n",
    "        X.append(scaled_data[i-look_back:i, 0])\n",
    "        y.append(scaled_data[i, 0])\n",
    "    return np.array(X), np.array(y), scaler\n"
   ]
  },
  {
   "cell_type": "code",
   "execution_count": null,
   "metadata": {},
   "outputs": [],
   "source": [
    "def lstm_model(X_train, y_train):\n",
    "    model = Sequential()\n",
    "    model.add(LSTM(units=50, return_sequences=True, input_shape=(X_train.shape[1], 1)))\n",
    "    model.add(LSTM(units=50))\n",
    "    model.add(Dense(1))\n",
    "    model.compile(optimizer='adam', loss='mean_squared_error')\n",
    "    model.fit(X_train, y_train, epochs=30, batch_size=32)\n",
    "    return model\n"
   ]
  },
  {
   "cell_type": "code",
   "execution_count": null,
   "metadata": {},
   "outputs": [],
   "source": [
    "\n",
    "def random_forest_model(X_train, y_train):\n",
    "    model = RandomForestRegressor(n_estimators=100, random_state=42)\n",
    "    model.fit(X_train, y_train)\n",
    "    return model"
   ]
  },
  {
   "cell_type": "code",
   "execution_count": null,
   "metadata": {},
   "outputs": [],
   "source": [
    "\n",
    "def svm_model(X_train, y_train):\n",
    "    model = SVR(kernel='rbf')\n",
    "    model.fit(X_train, y_train)\n",
    "    return model"
   ]
  },
  {
   "cell_type": "code",
   "execution_count": null,
   "metadata": {},
   "outputs": [],
   "source": [
    "\n",
    "def get_sentiment(symbol):\n",
    "    stock = yf.Ticker(symbol)\n",
    "    news = stock.news\n",
    "    if news:\n",
    "        recent_news = news[0]['title']\n",
    "        sentiment = TextBlob(recent_news).sentiment.polarity\n",
    "        if sentiment > 0:\n",
    "            return \"Positive\", sentiment\n",
    "        elif sentiment < 0:\n",
    "            return \"Negative\", sentiment\n",
    "        else:\n",
    "            return \"Neutral\", sentiment\n",
    "    else:\n",
    "        return \"No recent news\", 0\n"
   ]
  },
  {
   "cell_type": "code",
   "execution_count": null,
   "metadata": {},
   "outputs": [],
   "source": [
    "def generate_chart(data, prediction):\n",
    "    plt.figure(figsize=(10, 6))\n",
    "    plt.plot(data.index[-30:], data['Close'].values[-30:], label='Actual')\n",
    "    plt.plot(data.index[-1:], prediction, 'ro', label='Prediction')\n",
    "    plt.title('Stock Price Prediction')\n",
    "    plt.xlabel('Date')\n",
    "    plt.ylabel('Price')\n",
    "    plt.legend()\n",
    "    \n",
    "    img = io.BytesIO()\n",
    "    plt.savefig(img, format='png')\n",
    "    img.seek(0)\n",
    "    chart_url = base64.b64encode(img.getvalue()).decode()\n",
    "    return chart_url\n"
   ]
  },
  {
   "cell_type": "code",
   "execution_count": null,
   "metadata": {},
   "outputs": [],
   "source": [
    "\n",
    "@app.route('/', methods=['GET', 'POST'])\n",
    "def index():\n",
    "    if request.method == 'POST':\n",
    "        symbol = request.form['symbol']\n",
    "        model_type = request.form['model_type']\n",
    "        \n",
    "        data = get_stock_data(symbol, '2020-01-01', '2023-12-31')\n",
    "        X, y, scaler = prepare_data(data)\n",
    "        X_train, y_train = X[:-1], y[:-1]\n",
    "        \n",
    "        if model_type == 'lstm':\n",
    "            model = lstm_model(X_train.reshape((X_train.shape[0], X_train.shape[1], 1)), y_train)\n",
    "            prediction = model.predict(X[-1].reshape((1, X.shape[1], 1)))\n",
    "        elif model_type == 'random_forest':\n",
    "            model = random_forest_model(X_train, y_train)\n",
    "            prediction = model.predict(X[-1].reshape(1, -1))\n",
    "        else:  # SVM\n",
    "            model = svm_model(X_train, y_train)\n",
    "            prediction = model.predict(X[-1].reshape(1, -1))\n",
    "        \n",
    "        prediction = scaler.inverse_transform(prediction.reshape(1, -1))[0, 0]\n",
    "        last_price = data['Close'].values[-1]\n",
    "        \n",
    "        sentiment, sentiment_score = get_sentiment(symbol)\n",
    "        chart_url = generate_chart(data, prediction)\n",
    "        \n",
    "        if prediction > last_price:\n",
    "            signal = \"Buy\"\n",
    "        elif prediction < last_price:\n",
    "            signal = \"Sell\"\n",
    "        else:\n",
    "            signal = \"Hold\"\n",
    "        \n",
    "        return render_template('result.html', \n",
    "                               symbol=symbol, \n",
    "                               prediction=prediction, \n",
    "                               last_price=last_price,\n",
    "                               sentiment=sentiment,\n",
    "                               sentiment_score=sentiment_score,\n",
    "                               signal=signal,\n",
    "                               chart_url=chart_url)\n",
    "    \n",
    "    return render_template('index.html')\n",
    "\n",
    "if __name__ == '__main__':\n",
    "    app.run(debug=True)"
   ]
  }
 ],
 "metadata": {
  "kernelspec": {
   "display_name": "env",
   "language": "python",
   "name": "python3"
  },
  "language_info": {
   "codemirror_mode": {
    "name": "ipython",
    "version": 3
   },
   "file_extension": ".py",
   "mimetype": "text/x-python",
   "name": "python",
   "nbconvert_exporter": "python",
   "pygments_lexer": "ipython3",
   "version": "3.11.0rc1"
  }
 },
 "nbformat": 4,
 "nbformat_minor": 2
}
